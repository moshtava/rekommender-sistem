{
 "cells": [
  {
   "cell_type": "code",
   "execution_count": 2,
   "metadata": {},
   "outputs": [],
   "source": [
    "import pandas as pd\n",
    "import numpy as np\n",
    "from datetime import datetime, timedelta\n",
    "\n",
    "num_samples = 10000\n",
    "num_users = 100"
   ]
  },
  {
   "cell_type": "code",
   "execution_count": null,
   "metadata": {},
   "outputs": [],
   "source": [
    "data = {\n",
    "'user_id': np.random.randint(1, num_users + 1, num_samples),\n",
    "'crypto_id': np.random.randint(1, 21, num_samples),  # Assuming 20 different cryptocurrencies\n",
    "'transaction_type': np.random.choice(['buy', 'sell'], num_samples),\n",
    "'transaction_amount': np.round(np.random.uniform(0.1, 5.0, num_samples), 2),\n",
    "'transaction_date': [datetime.now() - timedelta(days=i) for i in range(num_samples)],\n",
    "'user_age': np.random.randint(18, 60, num_samples),\n",
    "'user_location': np.random.choice(['USA', 'Canada', 'Iran', 'Germany', 'Japan'], num_samples),\n",
    "'crypto_price': np.round(np.random.uniform(1000, 50000, num_samples), 2),\n",
    "'market_trend': np.random.choice(['bullish', 'bearish'], num_samples),\n",
    "'user_balance': np.round(np.random.uniform(1000, 100000, num_samples), 2)\n",
    "}"
   ]
  }
 ],
 "metadata": {
  "kernelspec": {
   "display_name": "venv",
   "language": "python",
   "name": "python3"
  },
  "language_info": {
   "codemirror_mode": {
    "name": "ipython",
    "version": 3
   },
   "file_extension": ".py",
   "mimetype": "text/x-python",
   "name": "python",
   "nbconvert_exporter": "python",
   "pygments_lexer": "ipython3",
   "version": "3.12.4"
  }
 },
 "nbformat": 4,
 "nbformat_minor": 2
}
