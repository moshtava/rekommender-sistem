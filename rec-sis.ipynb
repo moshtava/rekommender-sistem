{
 "cells": [
  {
   "cell_type": "code",
   "execution_count": 2,
   "metadata": {},
   "outputs": [],
   "source": [
    "import pandas as pd\n",
    "import numpy as np\n",
    "from datetime import datetime, timedelta\n",
    "\n",
    "num_samples = 10000\n",
    "num_users = 100"
   ]
  },
  {
   "cell_type": "code",
   "execution_count": 3,
   "metadata": {},
   "outputs": [],
   "source": [
    "data = {\n",
    "'user_id': np.random.randint(1, num_users + 1, num_samples),\n",
    "'crypto_id': np.random.randint(1, 21, num_samples),  # Assuming 20 different cryptocurrencies\n",
    "'transaction_type': np.random.choice(['buy', 'sell'], num_samples),\n",
    "'transaction_amount': np.round(np.random.uniform(0.1, 5.0, num_samples), 2),\n",
    "'transaction_date': [datetime.now() - timedelta(days=i) for i in range(num_samples)],\n",
    "'user_age': np.random.randint(18, 60, num_samples),\n",
    "'user_location': np.random.choice(['USA', 'Canada', 'Iran', 'Germany', 'Japan'], num_samples),\n",
    "'crypto_price': np.round(np.random.uniform(1000, 50000, num_samples), 2),\n",
    "'market_trend': np.random.choice(['bullish', 'bearish'], num_samples),\n",
    "'user_balance': np.round(np.random.uniform(1000, 100000, num_samples), 2)\n",
    "}"
   ]
  },
  {
   "cell_type": "code",
   "execution_count": 4,
   "metadata": {},
   "outputs": [
    {
     "name": "stdout",
     "output_type": "stream",
     "text": [
      "   user_id  crypto_id transaction_type  transaction_amount  \\\n",
      "0       97          5              buy                4.21   \n",
      "1       80          9             sell                1.92   \n",
      "2        6         11              buy                1.88   \n",
      "3       43         19              buy                4.32   \n",
      "4       54         18              buy                1.09   \n",
      "\n",
      "            transaction_date  user_age user_location  crypto_price  \\\n",
      "0 2024-08-21 01:17:48.991068        52           USA      27713.67   \n",
      "1 2024-08-20 01:17:48.991068        25          Iran      42690.55   \n",
      "2 2024-08-19 01:17:48.991068        19         Japan      17242.04   \n",
      "3 2024-08-18 01:17:48.991068        54         Japan       1038.04   \n",
      "4 2024-08-17 01:17:48.991068        32       Germany       3791.41   \n",
      "\n",
      "  market_trend  user_balance  \n",
      "0      bearish      54456.73  \n",
      "1      bullish      84062.29  \n",
      "2      bullish      98181.35  \n",
      "3      bearish      30946.36  \n",
      "4      bearish      15866.04  \n"
     ]
    }
   ],
   "source": [
    "df = pd.DataFrame(data)\n",
    "print(df.head())"
   ]
  }
 ],
 "metadata": {
  "kernelspec": {
   "display_name": "venv",
   "language": "python",
   "name": "python3"
  },
  "language_info": {
   "codemirror_mode": {
    "name": "ipython",
    "version": 3
   },
   "file_extension": ".py",
   "mimetype": "text/x-python",
   "name": "python",
   "nbconvert_exporter": "python",
   "pygments_lexer": "ipython3",
   "version": "3.12.4"
  }
 },
 "nbformat": 4,
 "nbformat_minor": 2
}
